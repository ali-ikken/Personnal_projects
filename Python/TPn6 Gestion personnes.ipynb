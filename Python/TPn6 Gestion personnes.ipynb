{
 "cells": [
  {
   "cell_type": "markdown",
   "metadata": {},
   "source": [
    "### Question 1"
   ]
  },
  {
   "cell_type": "code",
   "execution_count": 183,
   "metadata": {},
   "outputs": [],
   "source": [
    "import pymysql as psql \n",
    "from tkinter import *\n",
    "from tkinter import ttk\n",
    "\n",
    "class Dbconnect(object):\n",
    "    def __init__(self):\n",
    "        self.dbconection = psql.connect(host='localhost',\n",
    "        port=3306, user='root',\n",
    "        passwd='root', db='gestionpersonnes')\n",
    "        self.dbcursor = self.dbconection.cursor()\n",
    "    def commit_db(self):\n",
    "        self.dbconection.commit()\n",
    "    def close_db(self):\n",
    "        self.dbcursor.close() ; self.dbconection.close()"
   ]
  },
  {
   "cell_type": "markdown",
   "metadata": {},
   "source": [
    "### Question 2\n",
    "\n",
    "## 1er interface"
   ]
  },
  {
   "cell_type": "code",
   "execution_count": 102,
   "metadata": {},
   "outputs": [],
   "source": [
    "class Interface(Frame):\n",
    "    try:\n",
    "        db=Dbconnect()\n",
    "        db.dbcursor.execute(\"SELECT * FROM employés\")\n",
    "        results = db.dbcursor.fetchall()\n",
    "        db.commit_db()\n",
    "        db.close_db()\n",
    "        i=0\n",
    "    except MySQLError as err:\n",
    "        print(err)\n",
    "\n",
    "    def __init__(self,fenetre,**kwargs):\n",
    "        Frame.__init__(self,fenetre)\n",
    "        self.pack(fill=BOTH)\n",
    "\n",
    "        # the notebook\n",
    "        tabs = ttk.Notebook(self) \n",
    "        #the first tab \n",
    "        tab1 = ttk.Frame(tabs) \n",
    "        #the second tab\n",
    "        tab2 = ttk.Frame(tabs) \n",
    "        tabs.add(tab1, text ='info société') \n",
    "        tabs.add(tab2, text ='info personnelles') \n",
    "        tabs.grid(row=0,column=0)\n",
    "\n",
    "        \n",
    "        self.Num=Label(tab1, text = \"N° employe\").grid(row=0,column=0)\n",
    "        self.champNum=Entry(tab1)\n",
    "        self.champNum.grid(row=0,column=1)\n",
    "\n",
    "        \n",
    "        self.Nom=Label(tab1, text = \"Nom\").grid(row=1,column=0)\n",
    "        self.champNom=Entry(tab1)\n",
    "        self.champNom.grid(row=1,column=1)\n",
    "\n",
    "        \n",
    "        self.Prenom=Label(tab1, text = \"Prénom\").grid(row=2,column=0)\n",
    "        self.champPrenom=Entry(tab1)\n",
    "        self.champPrenom.grid(row=2,column=1)\n",
    "\n",
    "    \n",
    "        self.Fonction=Label(tab1, text = \"Fonction\").grid(row=3,column=0)\n",
    "        self.champFonction=Entry(tab1)\n",
    "        self.champFonction.grid(row=3,column=1)\n",
    "        \n",
    "\n",
    "        self.Adresse=Label(tab2, text = \"Adresse\" ).grid(row=0,column=0)\n",
    "        self.champAdresse=Entry(tab2)\n",
    "        self.champAdresse.grid(row=0,column=1)\n",
    "        \n",
    "\n",
    "        self.Tel=Label(tab2, text = \"tel domicile\").grid(row=1,column=0)\n",
    "        self.champTel=Entry(tab2)\n",
    "        self.champTel.grid(row=1,column=1)\n",
    "\n",
    "        btnFrm= Frame(self)\n",
    "        btnFrm.grid(row=4,column=0)\n",
    "\n",
    "        self.btn1=Button(btnFrm, text = \"<\",command=self.Back)\n",
    "        self.btn1.grid(row=1,column=0)\n",
    "        self.btn2=Button(btnFrm, text = \">\",command=self.Next)\n",
    "        self.btn2.grid(row=1,column=3)\n",
    "\n",
    "        self.btn4=Button(btnFrm, text = \"Quitter\",command=self.destroy)\n",
    "        self.btn4.grid(row=1,column=6)\n",
    "       #insertion du 1er employé \n",
    "        self.j=0\n",
    "        champs=[self.champNum,self.champNom,self.champPrenom,self.champFonction,self.champAdresse,self.champTel]\n",
    "        for value in self.results[self.i]:\n",
    "            champs[self.j].insert(0,value)\n",
    "            self.j+=1\n",
    "\n",
    "    def Next(self):\n",
    "            if((self.i)<len(self.results)-1):\n",
    "                k=0\n",
    "                self.i+=1\n",
    "                champs=[self.champNum,self.champNom,self.champPrenom,self.champFonction,self.champAdresse,self.champTel]\n",
    "                for value in self.results[self.i]:\n",
    "                    champs[k].delete(0,'end')\n",
    "                    champs[k].insert(0,value)\n",
    "                    k+=1\n",
    "           \n",
    "\n",
    "    def Back(self):\n",
    "            if(self.i>0):\n",
    "                self.i-=1\n",
    "                k=0\n",
    "                champs=[self.champNum,self.champNom,self.champPrenom,self.champFonction,self.champAdresse,self.champTel]\n",
    "                for value in self.results[self.i]:\n",
    "                    champs[k].delete(0,'end')\n",
    "                    champs[k].insert(0,value)\n",
    "                    k+=1\n",
    "            \n",
    "f=Tk()\n",
    "f.title('Consultation des employés')\n",
    "interface=Interface(f)\n",
    "interface.mainloop()"
   ]
  },
  {
   "cell_type": "markdown",
   "metadata": {},
   "source": [
    "## 2eme interface"
   ]
  },
  {
   "cell_type": "code",
   "execution_count": 187,
   "metadata": {},
   "outputs": [],
   "source": [
    "class Interface(Frame):\n",
    "    try:\n",
    "        db=Dbconnect()\n",
    "        db.dbcursor.execute('SELECT c.Ncommande,c.DateCommande,c.AlivrerAvant,c.DateEnvoi,cls.codeClient,cls.société FROM commandes c,clients cls where c.CodeClient=cls.codeClient')\n",
    "        results1= db.dbcursor.fetchall()\n",
    "        db.dbcursor.execute('SELECT c.Ncommande,p.RéfProduit,nomProduit,quantité FROM commandes c,détailscommandes d ,produits p  where c.Ncommande=d.Ncommande and d.RéfProduit=p.RéfProduit')\n",
    "        results2= db.dbcursor.fetchall()\n",
    "        db.commit_db()\n",
    "        db.close_db()\n",
    "    except MySQLError as err:\n",
    "        print(err)\n",
    "\n",
    "    def __init__(self,fenetre,**kwargs):\n",
    "        Frame.__init__(self,fenetre)\n",
    "        self.pack(fill=BOTH)\n",
    "    \n",
    "        l = LabelFrame(self, text=\"infos Commande\")\n",
    "        l.pack(fill=\"both\", expand=\"yes\" , padx=8 , pady=8)\n",
    "        \n",
    "        self.listNcommandes = []\n",
    "        for r in self.results1:\n",
    "            self.listNcommandes.append(r[0])\n",
    "        \n",
    "        self.Ncommande=StringVar()\n",
    "        self.comboText=Label(l, text = \"Ncommande\").grid(row=0,column=0)\n",
    "        self.combo = ttk.Combobox(l, values=self.listNcommandes )\n",
    "        self.combo.grid(row=0, column=1)\n",
    "        self.combo.current(0)\n",
    "        \n",
    "        self.dateC=Label(l, text = \"DateCommande\").grid(row=1,column=0)\n",
    "        self.champDateC=Entry(l)\n",
    "        self.champDateC.grid(row=1,column=1)\n",
    "\n",
    "        \n",
    "        self.LivrerAvant=Label(l, text = \"AlivrerAvant\").grid(row=2,column=0)\n",
    "        self.champLivrerAvant=Entry(l)\n",
    "        self.champLivrerAvant.grid(row=2,column=1)\n",
    "\n",
    "    \n",
    "        self.DateEnvoi=Label(l, text = \"DateEnvoi\").grid(row=3,column=0)\n",
    "        self.champDateEnvoi=Entry(l)\n",
    "        self.champDateEnvoi.grid(row=3,column=1)\n",
    "        \n",
    "\n",
    "        self.codC=Label(l, text = \"CodeClient\" ).grid(row=4,column=0)\n",
    "        self.champCodc=Entry(l)\n",
    "        self.champCodc.grid(row=4,column=1)\n",
    "        \n",
    "\n",
    "        self.Societe=Label(l, text = \"Societe\").grid(row=5,column=0)\n",
    "        self.champSoc=Entry(l)\n",
    "        self.champSoc.grid(row=5,column=1)\n",
    "        \n",
    "        l2 = LabelFrame(self, text=\"details Commande\")\n",
    "        l2.pack(fill=\"both\", expand=\"yes\", padx=10,pady=10 )\n",
    "    \n",
    "        \n",
    "        \n",
    "        \n",
    "        # treeView & fill in the data\n",
    "        self.tree = ttk.Treeview(l2,columns= (1,2,3),height=5,show=\"headings\")\n",
    "        self.tree.place(x=50, y=50, width=300)\n",
    "        self.tree.column(1, width=50)\n",
    "        self.tree.column(2, width=150)\n",
    "        self.tree.column(3, width=50) ;\n",
    "        self.tree.heading(1,text=\"RefProduit\");\n",
    "        self.tree.heading(2, text=\"Nom produit\")\n",
    "        self.tree.heading(3, text=\"Qt com\");\n",
    "        sbar = ttk.Scrollbar(l2,orient='vertical',command=self.tree.yview)\n",
    "        sbar.pack(side=RIGHT, fill=Y)\n",
    "        self.tree.pack(side=LEFT, expand=YES, fill=BOTH)\n",
    "        self.tree.configure(yscroll=sbar.set)\n",
    "        self.combo.bind(\"<<ComboboxSelected>>\" , self.comboAction )\n",
    "        \n",
    "        Ncmd=int(self.combo.get())\n",
    "        for row in self.results1:\n",
    "            if(row[0]==Ncmd):\n",
    "                champs=[self.champDateC,self.champLivrerAvant,self.champDateEnvoi,self.champCodc,self.champSoc]\n",
    "                for i in range(0,5):\n",
    "                    champs[i].delete(0,'end')\n",
    "                    champs[i].insert(0,row[i+1])\n",
    "                for row in self.results2:\n",
    "                     if(row[0]==Ncmd):\n",
    "                        self.tree.insert('','end', values=(row[1], row[2], row[3]))\n",
    "        \n",
    "\n",
    "    def comboAction(self,event):\n",
    "                for i in self.tree.get_children():\n",
    "                    self.tree.delete(i)\n",
    "                Ncmd=int(self.combo.get())\n",
    "                for row in self.results1:\n",
    "                    if(row[0]==Ncmd):\n",
    "                        champs=[self.champDateC,self.champLivrerAvant,self.champDateEnvoi,self.champCodc,self.champSoc]\n",
    "                        for i in range(0,5):\n",
    "                            champs[i].delete(0,'end')\n",
    "                            champs[i].insert(0,row[i+1])\n",
    "                        for row in self.results2:\n",
    "                             if(row[0]==Ncmd):\n",
    "                                self.tree.insert('','end', values=(row[1], row[2], row[3]))\n",
    "\n",
    "f=Tk()\n",
    "f.title('Consultation des employés')\n",
    "interface=Interface(f)\n",
    "interface.mainloop()"
   ]
  },
  {
   "cell_type": "markdown",
   "metadata": {},
   "source": [
    "## 3eme interface\n"
   ]
  },
  {
   "cell_type": "code",
   "execution_count": 203,
   "metadata": {},
   "outputs": [
    {
     "data": {
      "image/png": "[encoded data removed]",
      "text/plain": [
       "<Figure size 432x288 with 1 Axes>"
      ]
     },
     "metadata": {
      "needs_background": "light"
     },
     "output_type": "display_data"
    },
    {
     "data": {
      "image/png": "[encoded data removed]",
      "text/plain": [
       "<Figure size 432x288 with 1 Axes>"
      ]
     },
     "metadata": {
      "needs_background": "light"
     },
     "output_type": "display_data"
    },
    {
     "data": {
      "image/png": "[encoded data removed]",
      "text/plain": [
       "<Figure size 432x288 with 1 Axes>"
      ]
     },
     "metadata": {
      "needs_background": "light"
     },
     "output_type": "display_data"
    },
    {
     "data": {
      "image/png": "[encoded data removed]",
      "text/plain": [
       "<Figure size 432x288 with 1 Axes>"
      ]
     },
     "metadata": {
      "needs_background": "light"
     },
     "output_type": "display_data"
    },
    {
     "data": {
      "image/png": "[encoded data removed]",
      "text/plain": [
       "<Figure size 432x288 with 1 Axes>"
      ]
     },
     "metadata": {
      "needs_background": "light"
     },
     "output_type": "display_data"
    },
    {
     "data": {
      "image/png": "[encoded data removed]",
      "text/plain": [
       "<Figure size 432x288 with 1 Axes>"
      ]
     },
     "metadata": {
      "needs_background": "light"
     },
     "output_type": "display_data"
    }
   ],
   "source": [
    "from pylab import *\n",
    "from matplotlib.backends.backend_tkagg import (FigureCanvasTkAgg, NavigationToolbar2Tk)\n",
    "import numpy as np\n",
    "class Interface(Frame):\n",
    "\n",
    "    try:\n",
    "        db=Dbconnect()\n",
    "        db.dbcursor.execute(\"SELECT nom FROM employés\")\n",
    "        results1 = db.dbcursor.fetchall()\n",
    "        db.dbcursor.execute(\"\"\"SELECT employes.Nom, Year(commandes.DateCommande) as AnCom,\n",
    "        sum( PrixUnitaire*Quantité *(1-'Remise (%)') ) as mt FROM (gestionpersonnes.commandes commandes\n",
    "        INNER JOIN gestionpersonnes.détailscommandes detailscommandes\n",
    "           ON (commandes.NCommande = detailscommandes.NCommande))\n",
    "       INNER JOIN gestionpersonnes.employés employes\n",
    "          ON (employes.NEmployé = commandes.NEmployé)\n",
    "  group by Nom,Year(commandes.DateCommande)\"\"\")\n",
    "        results2 = db.dbcursor.fetchall()\n",
    "        db.dbcursor.execute(\"\"\" SELECT employes.Nom, year(commandes.DateCommande),\n",
    "sum( commandes.DateEnvoi - commandes.ALivrerAvant ) \n",
    "as totalRetar FROM gestionpersonnes.employés employes \n",
    "INNER JOIN gestionpersonnes.commandes commandes ON (employes.NEmployé = commandes.NEmployé) \n",
    "where (commandes.DateEnvoi-commandes.ALivrerAvant)> 0 \n",
    "group by employes.Nom, year(commandes.DateCommande) \"\"\")\n",
    "        results3 = db.dbcursor.fetchall()\n",
    "        db.commit_db()\n",
    "        db.close_db()\n",
    "    except MySQLError as err:\n",
    "        print(err)\n",
    "    \n",
    "\n",
    "    def __init__(self,fenetre,**kwargs):\n",
    "        Frame.__init__(self,fenetre, width=500, height=500, ** kwargs)\n",
    "        self.pack(fill=BOTH)\n",
    "        \n",
    "        self.emp=Label(self, text = (\"Employés\")).grid(row=0,column=0)\n",
    "        listNoms = []\n",
    "        for value in self.results1:\n",
    "            listNoms.append(value[0])\n",
    "        self.combo = ttk.Combobox( self , values = listNoms)\n",
    "        self.combo.grid(row=0,column=3)\n",
    "        self.combo.bind(\"<<ComboboxSelected>>\",self.comboAction)\n",
    "\n",
    "    \n",
    "    def comboAction(self,event):\n",
    "        res=self.results2\n",
    "        nom=self.combo.get()\n",
    "        listTotal = []\n",
    "        for row in res:\n",
    "            if(row[0]==nom):\n",
    "                listTotal.append(row)\n",
    "        res=np.array(listTotal)\n",
    "        \n",
    "        annee=res.transpose()[1]\n",
    "        somme=res.transpose()[2]\n",
    "        fig = plt.figure()\n",
    "        plt.bar(annee,somme)\n",
    "        plt.title(\"total mt commande par annee\")\n",
    "        canvas = FigureCanvasTkAgg(fig,master=self)\n",
    "        canvas.draw()\n",
    "        canvas.get_tk_widget().grid(row=4, column=2)\n",
    "\n",
    "        res3=self.results3\n",
    "        listRetards = []\n",
    "        for row in res3:\n",
    "            if(row[0]==nom):\n",
    "                listRetards.append(row)\n",
    "        res3=np.array(listRetards)\n",
    "        annee=res3.transpose()[1]\n",
    "        retard=res3.transpose()[2]\n",
    "        fig = plt.figure()\n",
    "        plt.bar(annee, retard)\n",
    "        plt.title(\"Retard commande par annee\")\n",
    "        canvas = FigureCanvasTkAgg(fig,master=self)\n",
    "        canvas.draw()\n",
    "        canvas.get_tk_widget().grid(row=4, column=4)\n",
    "f=Tk()\n",
    "f.title('Consultation des employés')\n",
    "interface=Interface(f)\n",
    "interface.mainloop()\n"
   ]
  },
  {
   "cell_type": "code",
   "execution_count": null,
   "metadata": {},
   "outputs": [],
   "source": []
  },
  {
   "cell_type": "code",
   "execution_count": null,
   "metadata": {},
   "outputs": [],
   "source": []
  }
 ],
 "metadata": {
  "kernelspec": {
   "display_name": "Python 3",
   "language": "python",
   "name": "python3"
  },
  "language_info": {
   "codemirror_mode": {
    "name": "ipython",
    "version": 3
   },
   "file_extension": ".py",
   "mimetype": "text/x-python",
   "name": "python",
   "nbconvert_exporter": "python",
   "pygments_lexer": "ipython3",
   "version": "3.7.6"
  }
 },
 "nbformat": 4,
 "nbformat_minor": 4
}
